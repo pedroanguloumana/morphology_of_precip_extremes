{
 "cells": [
  {
   "cell_type": "code",
   "execution_count": 38,
   "id": "340b932d",
   "metadata": {},
   "outputs": [
    {
     "name": "stdout",
     "output_type": "stream",
     "text": [
      "The autoreload extension is already loaded. To reload it, use:\n",
      "  %reload_ext autoreload\n"
     ]
    }
   ],
   "source": [
    "%load_ext autoreload\n",
    "%autoreload 2\n",
    "from scipy.stats import binned_statistic_2d\n",
    "import matplotlib.pyplot as plt\n",
    "import matplotlib.colors as colors\n",
    "from matplotlib.ticker import ScalarFormatter\n",
    "from src.loading import *\n",
    "from src.plotting import *"
   ]
  },
  {
   "cell_type": "code",
   "execution_count": 5,
   "id": "6bfa852c",
   "metadata": {},
   "outputs": [],
   "source": [
    "pf_stats = load_global_merged_pf_stats()"
   ]
  },
  {
   "cell_type": "code",
   "execution_count": 10,
   "id": "5c82419b",
   "metadata": {},
   "outputs": [
    {
     "data": {
      "text/plain": [
       "53050"
      ]
     },
     "execution_count": 10,
     "metadata": {},
     "output_type": "execute_result"
    }
   ],
   "source": [
    "loc = pf_stats['largest_10mmhr_cluster_size_pixels']/pf_stats['num_pixels']\n",
    "area = pf_stats['num_pixels'] * 25\n",
    "area.max()"
   ]
  },
  {
   "cell_type": "code",
   "execution_count": 7,
   "id": "644df41b",
   "metadata": {},
   "outputs": [],
   "source": [
    "is_extreme = pf_stats['max_precip'] >= 60"
   ]
  },
  {
   "cell_type": "code",
   "execution_count": 45,
   "id": "da0cb8dc",
   "metadata": {},
   "outputs": [
    {
     "name": "stderr",
     "output_type": "stream",
     "text": [
      "/var/folders/1t/6drgwyc17q12xmq4h7m454vw0000gn/T/ipykernel_62132/915949655.py:19: RuntimeWarning: invalid value encountered in divide\n",
      "  extreme_frac = extreme_count/all_count\n"
     ]
    }
   ],
   "source": [
    "loc_bins = np.arange(0, 1, 0.05)\n",
    "area_bins = np.logspace(np.log10(500), np.log10(25_000), 50)\n",
    "XX, YY = np.meshgrid(area_bins, loc_bins)\n",
    "extreme_count = binned_statistic_2d(\n",
    "    loc, \n",
    "    area, \n",
    "    is_extreme,\n",
    "    statistic='sum',\n",
    "    bins=[loc_bins, area_bins]\n",
    ").statistic\n",
    "all_count = binned_statistic_2d(\n",
    "    loc, \n",
    "    area, \n",
    "    None,\n",
    "    statistic='count',\n",
    "    bins=[loc_bins, area_bins]\n",
    ").statistic\n",
    "\n",
    "extreme_frac = extreme_count/all_count"
   ]
  },
  {
   "cell_type": "code",
   "execution_count": 51,
   "id": "792417d5",
   "metadata": {},
   "outputs": [
    {
     "data": {
      "text/plain": [
       "Text(0, 0.5, 'Localization')"
      ]
     },
     "execution_count": 51,
     "metadata": {},
     "output_type": "execute_result"
    },
    {
     "data": {
      "image/png": "[encoded data removed]",
      "text/plain": [
       "<Figure size 400x300 with 2 Axes>"
      ]
     },
     "metadata": {},
     "output_type": "display_data"
    }
   ],
   "source": [
    "fig, ax = plt.subplots(figsize=(4,3), constrained_layout=True)\n",
    "cmap = plt.cm.jet\n",
    "norm = colors.Normalize(vmin=0, vmax=1)\n",
    "c = ax.pcolormesh(XX, YY, extreme_frac, cmap=cmap, norm=norm)\n",
    "fig.colorbar(c)\n",
    "ax.set_xscale('log')\n",
    "ax.set_title('ExPF Fraction')\n",
    "ax.set_xlabel('PF Size [km2]')\n",
    "ax.set_ylabel('Localization')"
   ]
  },
  {
   "cell_type": "code",
   "execution_count": null,
   "id": "ad61322b",
   "metadata": {},
   "outputs": [],
   "source": []
  }
 ],
 "metadata": {
  "kernelspec": {
   "display_name": "morphology_of_precip_extremes",
   "language": "python",
   "name": "python3"
  },
  "language_info": {
   "codemirror_mode": {
    "name": "ipython",
    "version": 3
   },
   "file_extension": ".py",
   "mimetype": "text/x-python",
   "name": "python",
   "nbconvert_exporter": "python",
   "pygments_lexer": "ipython3",
   "version": "3.13.5"
  }
 },
 "nbformat": 4,
 "nbformat_minor": 5
}
